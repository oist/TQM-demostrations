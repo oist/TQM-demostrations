{
 "cells": [
  {
   "cell_type": "markdown",
   "metadata": {},
   "source": [
    "# Householder Method for Tridiagonal form of a Symmetric Matrix\n",
    "### Christina Lee\n",
    "### Category: Numerics\n",
    "<b>Based on <i>Numerical Recipes</i> 11.3.2</b>\n",
    "\n",
    "In the Jacobi Transformation, we elimated each off-diagonal element one by one.  Here, we eliminate entire columns at once, so we only have to sweep over the columns once, instead of everything in a triangle multiple times.  \n",
    "\n",
    "BUT we have a trade off.  This method only gets us to tridiagonal form.  A variety of methods can then easily get us from tridiagonal form to diagonal form, but this one will only get us that far.\n",
    "\n",
    "So we want an orthogonal matrix.  We also want it to be a function of a vector, so we can eliminate one vector at a time.  How do we construct a matrix out of a vector?\n",
    "\\begin{equation}\n",
    "\\mathbf{w} \\cdot \\mathbf{w}^{T}\n",
    "\\end{equation}\n",
    "but to make it orthogonal, we need\n",
    "\\begin{equation}\n",
    "\\mathbf{P}=\\mathbf{1}-2 \\mathbf{w} \\cdot \\mathbf{w}^{T}\n",
    "\\end{equation}\n",
    "which obeys\n",
    "\\begin{align}\n",
    "\\mathbf{P}^2 &= \\left(\\mathbf{1}-2 \\mathbf{w} \\cdot \\mathbf{w}^T \\right) \\cdot \n",
    "\\left( \\mathbf{1}-2 \\mathbf{w} \\cdot \\mathbf{w}^T \\right) \\\\\n",
    "&= 1 -  4 \\mathbf{w} \\cdot \\mathbf{w}^T + 4 \\mathbf{w} \\cdot ( \\mathbf{w}^T \\cdot \\mathbf{w} ) \\cdot \\mathbf{w}^T \\\\\n",
    "&=\\mathbf{1}\n",
    "\\end{align}\n",
    "given our $\\mathbf{w}$ is of unit length.  So $\\mathbf{P}^2 =1$,$\\mathbf{P}^T=\\mathbf{P}$, which implies $\\mathbf{P}^T=\\mathbf{P}^{-1}$.\n",
    "Since $\\mathbf{w}$, had to be unit length, we can take any vector and normalize it via\n",
    "\\begin{equation}\n",
    " \\frac{2 \\mathbf{u} \\cdot \\mathbf{u}^T}{|u|^2}\n",
    "\\end{equation}\n",
    "\n",
    "If we choose \n",
    "\\begin{equation}\n",
    "\\mathbf{u} = \\mathbf{x} \\pm |\\mathbf{x}|\\mathbf{e}_0\n",
    "\\end{equation}\n",
    "Then it turns out that\n",
    "\\begin{equation}\n",
    "\\mathbf{P}\\cdot \\mathbf{x} = \\pm |\\mathbf{x}| \\mathbf{e}_0\n",
    "\\end{equation}\n",
    "zeroing all but the first elements in the array."
   ]
  },
  {
   "cell_type": "code",
   "execution_count": 2,
   "metadata": {
    "collapsed": false
   },
   "outputs": [],
   "source": [
    "using PyPlot;"
   ]
  },
  {
   "cell_type": "code",
   "execution_count": 3,
   "metadata": {
    "collapsed": false
   },
   "outputs": [
    {
     "data": {
      "text/plain": [
       "makeA (generic function with 1 method)"
      ]
     },
     "execution_count": 3,
     "metadata": {},
     "output_type": "execute_result"
    }
   ],
   "source": [
    "## Here we create a random symmetric matrix\n",
    "function makeA(n::Int)\n",
    "    A=rand(n,n);\n",
    "    for ii in 1:n\n",
    "        A[ii,1:ii]=transpose(A[1:ii,ii]) \n",
    "    end\n",
    "    V=eye(n) #initializing the orthogonal transformation\n",
    "    return A,copy(A)\n",
    "end\n",
    "## One A returned will be stored to compare initial and final"
   ]
  },
  {
   "cell_type": "code",
   "execution_count": 108,
   "metadata": {
    "collapsed": false
   },
   "outputs": [
    {
     "data": {
      "text/plain": [
       "prettify (generic function with 2 methods)"
      ]
     },
     "execution_count": 108,
     "metadata": {},
     "output_type": "execute_result"
    }
   ],
   "source": [
    "# This makes a matrix easier to look at when its filled \n",
    "# with 1.043848974e-12 everywhere\n",
    "function prettify(A::Array,rtol::Real=1e-10)\n",
    "    Ap=copy(A)\n",
    "    for ii in 1:length(A)\n",
    "        if abs(Ap[ii])<rtol \n",
    "            Ap[ii]=0\n",
    "        end\n",
    "    end\n",
    "    return Ap;\n",
    "end"
   ]
  },
  {
   "cell_type": "code",
   "execution_count": 6,
   "metadata": {
    "collapsed": false
   },
   "outputs": [
    {
     "data": {
      "text/plain": [
       "makeP (generic function with 1 method)"
      ]
     },
     "execution_count": 6,
     "metadata": {},
     "output_type": "execute_result"
    }
   ],
   "source": [
    "function makeP(x::Array,n::Int)\n",
    "    l=length(x)\n",
    "    u=copy(x)\n",
    "    u[1]=x[1]+norm(x)\n",
    "    H=.5*sum(u.^2)\n",
    "    P=eye(l)-u*transpose(u)/H\n",
    "    \n",
    "    Pp=eye(n,n)\n",
    "    Pp[(end-l+1):end,(end-l+1):end]=P\n",
    "    return Pp\n",
    "end"
   ]
  },
  {
   "cell_type": "code",
   "execution_count": 7,
   "metadata": {
    "collapsed": false
   },
   "outputs": [],
   "source": [
    "n=10\n",
    "A,A0=makeA(n);"
   ]
  },
  {
   "cell_type": "code",
   "execution_count": 8,
   "metadata": {
    "collapsed": false
   },
   "outputs": [
    {
     "data": {
      "text/plain": [
       "Householder (generic function with 1 method)"
      ]
     },
     "execution_count": 8,
     "metadata": {},
     "output_type": "execute_result"
    }
   ],
   "source": [
    "function Householder(A::Array)\n",
    "    n=size(A)[1]\n",
    "    for ii in 1:(n-2)\n",
    "        P=makeP(A[(ii+1):end,ii],n)\n",
    "        A=P*A*P\n",
    "    end\n",
    "    return A\n",
    "end"
   ]
  },
  {
   "cell_type": "code",
   "execution_count": 21,
   "metadata": {
    "collapsed": false
   },
   "outputs": [
    {
     "name": "stdout",
     "output_type": "stream",
     "text": [
      "  0.000053 seconds (196 allocations: 40.094 KB)\n",
      "  0.000128 seconds (436 allocations: 276.281 KB)\n",
      "  0.001903 seconds (1.32 k allocations: 4.080 MB)\n",
      "  0.029465 seconds (2.88 k allocations: 32.728 MB, 18.12% gc time)\n",
      "  0.092379 seconds (4.42 k allocations: 110.739 MB, 9.76% gc time)\n",
      "  0.226861 seconds (5.97 k allocations: 262.912 MB, 9.03% gc time)\n"
     ]
    }
   ],
   "source": [
    "A,A0=makeA(10);\n",
    "@time Householder(A);\n",
    "A,A0=makeA(20);\n",
    "@time Householder(A);\n",
    "A,A0=makeA(50);\n",
    "@time Householder(A);\n",
    "A,A0=makeA(100);\n",
    "@time Householder(A);\n",
    "A,A0=makeA(150);\n",
    "@time Householder(A);\n",
    "A,A0=makeA(200);\n",
    "@time Householder(A);"
   ]
  },
  {
   "cell_type": "code",
   "execution_count": 22,
   "metadata": {
    "collapsed": false
   },
   "outputs": [
    {
     "data": {
      "text/plain": [
       "6-element Array{Float64,1}:\n",
       " 5.3e-5  \n",
       " 0.000128\n",
       " 0.001903\n",
       " 0.029465\n",
       " 0.092379\n",
       " 0.226861"
      ]
     },
     "execution_count": 22,
     "metadata": {},
     "output_type": "execute_result"
    }
   ],
   "source": [
    "n=[10,20,50,100,150,200]\n",
    "t=[.000053,.000128,.001903,.029465,.092379,.226861]"
   ]
  },
  {
   "cell_type": "code",
   "execution_count": null,
   "metadata": {
    "collapsed": false
   },
   "outputs": [],
   "source": []
  },
  {
   "cell_type": "markdown",
   "metadata": {},
   "source": [
    "That was the most straight forward implementation of the idea. \n",
    "BUT\n",
    "We can do better.  We just let the computer do all the manipulation for us, but we can simplify some of our expressions, so not only will there be less computer round off error, the computer will have to do less calculations per iteration.\n",
    "\\begin{equation}\n",
    "\\mathbf{p}=\\frac{\\mathbf{A}\\cdot\\mathbf{u}}{H}\n",
    "\\end{equation}\n",
    "\\begin{equation}\n",
    "K=\\frac{\\mathbf{u}^T\\cdot\\mathbf{p}}{2H}\n",
    "\\end{equation}\n",
    "\\begin{equation}\n",
    "\\mathbf{q}=\\mathbf{p}-K\\mathbf{u}\n",
    "\\end{equation}\n",
    "\\begin{equation}\n",
    "\\mathbf{P}\\cdot\\mathbf{A}\\cdot \\mathbf{P}=\n",
    "A-\\mathbf{u}\\cdot \\mathbf{q}^T - \\mathbf{q} \\cdot \\mathbf{u}^T\n",
    "\\end{equation}"
   ]
  },
  {
   "cell_type": "code",
   "execution_count": 4,
   "metadata": {
    "collapsed": false
   },
   "outputs": [
    {
     "data": {
      "text/plain": [
       "(\n",
       "4x4 Array{Float64,2}:\n",
       " 0.630279  0.798797  0.650099  0.733251\n",
       " 0.798797  0.2472    0.17569   0.104236\n",
       " 0.650099  0.17569   0.848353  0.56444 \n",
       " 0.733251  0.104236  0.56444   0.684609,\n",
       "\n",
       "4x4 Array{Float64,2}:\n",
       " 0.630279  0.798797  0.650099  0.733251\n",
       " 0.798797  0.2472    0.17569   0.104236\n",
       " 0.650099  0.17569   0.848353  0.56444 \n",
       " 0.733251  0.104236  0.56444   0.684609)"
      ]
     },
     "execution_count": 4,
     "metadata": {},
     "output_type": "execute_result"
    }
   ],
   "source": [
    "A,A0=makeA(4)"
   ]
  },
  {
   "cell_type": "code",
   "execution_count": 31,
   "metadata": {
    "collapsed": false
   },
   "outputs": [
    {
     "data": {
      "text/plain": [
       "Householder2 (generic function with 1 method)"
      ]
     },
     "execution_count": 31,
     "metadata": {},
     "output_type": "execute_result"
    }
   ],
   "source": [
    "function Householder2(A::Array)\n",
    "    l=size(A)[1]\n",
    "    for ii in 1:(l-2)\n",
    "        u=[zeros(ii);A[ii+1:end,ii]]\n",
    "        u[ii+1]=u[ii+1]+norm(u)\n",
    "        H=.5*sum(u.^2)\n",
    "        \n",
    "        p=A*u/H\n",
    "        K=dot(u,p)/(2*H)\n",
    "        q=p-K*u\n",
    "        \n",
    "        A=A-u*transpose(q)-q*transpose(u)\n",
    "    end\n",
    "    \n",
    "    return A;\n",
    "end"
   ]
  },
  {
   "cell_type": "code",
   "execution_count": 135,
   "metadata": {
    "collapsed": false
   },
   "outputs": [
    {
     "data": {
      "text/plain": [
       "6x6 Array{Float64,2}:\n",
       " 0.997473   0.947874  0.0870427  0.516195  0.0453324  0.303447\n",
       " 0.947874   0.437087  0.538868   0.479811  0.679562   0.478101\n",
       " 0.0870427  0.538868  0.916808   0.675501  0.99092    0.1487  \n",
       " 0.516195   0.479811  0.675501   0.890963  0.738793   0.31393 \n",
       " 0.0453324  0.679562  0.99092    0.738793  0.435431   0.599805\n",
       " 0.303447   0.478101  0.1487     0.31393   0.599805   0.901994"
      ]
     },
     "execution_count": 135,
     "metadata": {},
     "output_type": "execute_result"
    }
   ],
   "source": [
    "A,A0=makeA(6)\n",
    "A"
   ]
  },
  {
   "cell_type": "code",
   "execution_count": 136,
   "metadata": {
    "collapsed": false
   },
   "outputs": [
    {
     "data": {
      "text/plain": [
       "6x6 Array{Float64,2}:\n",
       "  0.997473  -1.12545   0.0        0.0        0.0       0.0     \n",
       " -1.12545    1.45164  -1.53298    0.0        0.0       0.0     \n",
       "  0.0       -1.53298   1.48995   -0.396809   0.0       0.0     \n",
       "  0.0        0.0      -0.396809   0.199214  -0.564059  0.0     \n",
       "  0.0        0.0       0.0       -0.564059   0.192697  0.176479\n",
       "  0.0        0.0       0.0        0.0        0.176479  0.248786"
      ]
     },
     "execution_count": 136,
     "metadata": {},
     "output_type": "execute_result"
    }
   ],
   "source": [
    "Af=Householder2(A)\n",
    "prettify(Af)"
   ]
  },
  {
   "cell_type": "code",
   "execution_count": 134,
   "metadata": {
    "collapsed": false
   },
   "outputs": [
    {
     "name": "stdout",
     "output_type": "stream",
     "text": [
      "  0.000061 seconds (220 allocations: 42.219 KB)\n",
      "  0.000306 seconds (490 allocations: 275.078 KB)\n",
      "  0.001252 seconds (1.49 k allocations: 3.919 MB)\n",
      "  0.011871 seconds (3.04 k allocations: 30.734 MB, 13.64% gc time)\n",
      "  0.055732 seconds (4.59 k allocations: 103.454 MB, 18.75% gc time)\n",
      "  0.116397 seconds (6.14 k allocations: 244.903 MB, 16.81% gc time)\n"
     ]
    }
   ],
   "source": [
    "A,A0=makeA(10);\n",
    "@time Householder2(A);\n",
    "A,A0=makeA(20);\n",
    "@time Householder2(A);\n",
    "A,A0=makeA(50);\n",
    "@time Householder2(A);\n",
    "A,A0=makeA(100);\n",
    "@time Householder2(A);\n",
    "A,A0=makeA(150);\n",
    "@time Householder2(A);\n",
    "A,A0=makeA(200);\n",
    "@time Householder2(A);"
   ]
  },
  {
   "cell_type": "code",
   "execution_count": 43,
   "metadata": {
    "collapsed": false
   },
   "outputs": [
    {
     "data": {
      "text/plain": [
       "6-element Array{Float64,1}:\n",
       " 3.9e-5  \n",
       " 0.000238\n",
       " 0.001088\n",
       " 0.013597\n",
       " 0.05741 \n",
       " 0.11814 "
      ]
     },
     "execution_count": 43,
     "metadata": {},
     "output_type": "execute_result"
    }
   ],
   "source": [
    "t2=[.000039,.000238,.001088,.013597,.05741,.118140]"
   ]
  },
  {
   "cell_type": "code",
   "execution_count": null,
   "metadata": {
    "collapsed": false
   },
   "outputs": [],
   "source": []
  },
  {
   "cell_type": "code",
   "execution_count": 102,
   "metadata": {
    "collapsed": false
   },
   "outputs": [
    {
     "data": {
      "text/plain": [
       "Householder3 (generic function with 1 method)"
      ]
     },
     "execution_count": 102,
     "metadata": {},
     "output_type": "execute_result"
    }
   ],
   "source": [
    "function Householder3(A::Array)\n",
    "    l=size(A)[1]\n",
    "    for ii in 1:(l-2)\n",
    "        u=[zeros(ii);A[ii+1:end,ii]]\n",
    "        u[ii+1]=u[ii+1]+norm(u)\n",
    "        H=.5*sum(u.^2)\n",
    "        \n",
    "        K=dot(u,A*u)/(2*H.^2)\n",
    "        q=Array{Float64}(l);\n",
    "        for jj in 1:l\n",
    "            q[jj]=-K*u[jj]\n",
    "            for kk in 1:l\n",
    "                q[jj]+=A[jj,kk]*u[kk]/H\n",
    "            end\n",
    "        end\n",
    "        for jj in 1:l\n",
    "            for kk in 1:l\n",
    "                A[jj,kk]=A[jj,kk]-u[jj]*q[kk]-q[jj]*u[kk]\n",
    "            end\n",
    "        end\n",
    "\n",
    "    end\n",
    "    \n",
    "    return A;\n",
    "end"
   ]
  },
  {
   "cell_type": "code",
   "execution_count": 103,
   "metadata": {
    "collapsed": false
   },
   "outputs": [
    {
     "data": {
      "text/plain": [
       "(\n",
       "5x5 Array{Float64,2}:\n",
       " 0.828142  0.82084    0.167905   0.302991  0.152457 \n",
       " 0.82084   0.522577   0.383784   0.628239  0.0788344\n",
       " 0.167905  0.383784   0.0815047  0.613356  0.841174 \n",
       " 0.302991  0.628239   0.613356   0.934513  0.549796 \n",
       " 0.152457  0.0788344  0.841174   0.549796  0.637833 ,\n",
       "\n",
       "5x5 Array{Float64,2}:\n",
       " 0.828142  0.82084    0.167905   0.302991  0.152457 \n",
       " 0.82084   0.522577   0.383784   0.628239  0.0788344\n",
       " 0.167905  0.383784   0.0815047  0.613356  0.841174 \n",
       " 0.302991  0.628239   0.613356   0.934513  0.549796 \n",
       " 0.152457  0.0788344  0.841174   0.549796  0.637833 )"
      ]
     },
     "execution_count": 103,
     "metadata": {},
     "output_type": "execute_result"
    }
   ],
   "source": [
    "A,A0=makeA(5)"
   ]
  },
  {
   "cell_type": "code",
   "execution_count": 109,
   "metadata": {
    "collapsed": false
   },
   "outputs": [
    {
     "data": {
      "text/plain": [
       "5x5 Array{Float64,2}:\n",
       "  0.828142  -0.90389    0.0        0.0        0.0     \n",
       " -0.90389    1.2843    -0.952873   0.0        0.0     \n",
       "  0.0       -0.952873   1.01088   -0.520677   0.0     \n",
       "  0.0        0.0       -0.520677   0.101281   0.41245 \n",
       "  0.0        0.0        0.0        0.41245   -0.220039"
      ]
     },
     "execution_count": 109,
     "metadata": {},
     "output_type": "execute_result"
    }
   ],
   "source": [
    "prettify(Householder3(A))"
   ]
  },
  {
   "cell_type": "code",
   "execution_count": 124,
   "metadata": {
    "collapsed": false
   },
   "outputs": [
    {
     "name": "stdout",
     "output_type": "stream",
     "text": [
      "  0.000026 seconds (84 allocations: 7.094 KB)\n",
      "  0.000193 seconds (184 allocations: 22.797 KB)\n",
      "  0.001130 seconds (484 allocations: 133.484 KB)\n",
      "  0.008200 seconds (984 allocations: 446.891 KB)\n",
      "  0.028900 seconds (1.48 k allocations: 1002.094 KB)\n",
      "  0.056151 seconds (1.98 k allocations: 1.726 MB)\n"
     ]
    }
   ],
   "source": [
    "A,A0=makeA(10);\n",
    "@time Householder3(A);\n",
    "A,A0=makeA(20);\n",
    "@time Householder3(A);\n",
    "A,A0=makeA(50);\n",
    "@time Householder3(A);\n",
    "A,A0=makeA(100);\n",
    "@time Householder3(A);\n",
    "A,A0=makeA(150);\n",
    "@time Householder3(A);\n",
    "A,A0=makeA(200);\n",
    "@time Householder3(A);"
   ]
  },
  {
   "cell_type": "code",
   "execution_count": 125,
   "metadata": {
    "collapsed": true
   },
   "outputs": [],
   "source": [
    "t3=[.000026,.000196,.001169,.008575,.027972,.056151];"
   ]
  },
  {
   "cell_type": "code",
   "execution_count": 132,
   "metadata": {
    "collapsed": false,
    "scrolled": true
   },
   "outputs": [
    {
     "data": {
      "image/png": "[encoded data removed]",
      "text/plain": [
       "PyPlot.Figure(PyObject <matplotlib.figure.Figure object at 0x3261fb610>)"
      ]
     },
     "metadata": {},
     "output_type": "display_data"
    },
    {
     "data": {
      "text/plain": [
       "PyObject <matplotlib.legend.Legend object at 0x326494710>"
      ]
     },
     "execution_count": 132,
     "metadata": {},
     "output_type": "execute_result"
    }
   ],
   "source": [
    "xlim([0,220])\n",
    "title(\"Time Scaling of Householder Method\")\n",
    "ylabel(\"Time Spend\")\n",
    "xlabel(\"rank of matrix\")\n",
    "scatter(n,t,marker=\"o\",color=\"blue\",label=\"test runs version 1\")\n",
    "scatter(n,t2,marker=\"o\",color=\"red\",label=\"test runs version 2\")\n",
    "scatter(n,t3,marker=\"o\",color=\"green\",label=\"test runs version 3\")\n",
    "plot(n,2.8e-8*n.^(3),label=\"3.5x cubic function\")\n",
    "plot(n,1.6e-8*n.^3,label=\"2x cubic function\",color=\"red\")\n",
    "plot(n,.8e-8*n.^3,label=\"cubic function\",color=\"green\")\n",
    "legend(loc=\"upper left\")"
   ]
  },
  {
   "cell_type": "code",
   "execution_count": 137,
   "metadata": {
    "collapsed": false
   },
   "outputs": [
    {
     "data": {
      "text/plain": [
       "(\n",
       "5x5 Array{Float64,2}:\n",
       " 0.928448  0.21094   0.478524   0.175008   0.635532 \n",
       " 0.21094   0.437081  0.390216   0.139656   0.274702 \n",
       " 0.478524  0.390216  0.0404452  0.826415   0.688833 \n",
       " 0.175008  0.139656  0.826415   0.624961   0.0357265\n",
       " 0.635532  0.274702  0.688833   0.0357265  0.470745 ,\n",
       "\n",
       "5x5 Array{Float64,2}:\n",
       " 0.928448  0.21094   0.478524   0.175008   0.635532 \n",
       " 0.21094   0.437081  0.390216   0.139656   0.274702 \n",
       " 0.478524  0.390216  0.0404452  0.826415   0.688833 \n",
       " 0.175008  0.139656  0.826415   0.624961   0.0357265\n",
       " 0.635532  0.274702  0.688833   0.0357265  0.470745 )"
      ]
     },
     "execution_count": 137,
     "metadata": {},
     "output_type": "execute_result"
    }
   ],
   "source": [
    "A,A0=makeA(5)"
   ]
  },
  {
   "cell_type": "code",
   "execution_count": 138,
   "metadata": {
    "collapsed": false
   },
   "outputs": [
    {
     "ename": "LoadError",
     "evalue": "LoadError: MethodError: `convert` has no method matching convert(::Type{Tridiagonal{T}}, ::Array{Float64,2})\nThis may have arisen from a call to the constructor Tridiagonal{T}(...),\nsince type constructors fall back to convert methods.\nClosest candidates are:\n  call{T}(::Type{T}, ::Any)\n  convert(::Type{Tridiagonal{T}}, !Matched::SymTridiagonal{T})\n  convert{T}(::Type{Tridiagonal{T}}, !Matched::Diagonal{T})\n  ...\nwhile loading In[138], in expression starting on line 1",
     "output_type": "error",
     "traceback": [
      "LoadError: MethodError: `convert` has no method matching convert(::Type{Tridiagonal{T}}, ::Array{Float64,2})\nThis may have arisen from a call to the constructor Tridiagonal{T}(...),\nsince type constructors fall back to convert methods.\nClosest candidates are:\n  call{T}(::Type{T}, ::Any)\n  convert(::Type{Tridiagonal{T}}, !Matched::SymTridiagonal{T})\n  convert{T}(::Type{Tridiagonal{T}}, !Matched::Diagonal{T})\n  ...\nwhile loading In[138], in expression starting on line 1",
      "",
      " in call at essentials.jl:56"
     ]
    }
   ],
   "source": [
    "Tridiagonal(A)"
   ]
  },
  {
   "cell_type": "code",
   "execution_count": null,
   "metadata": {
    "collapsed": true
   },
   "outputs": [],
   "source": []
  }
 ],
 "metadata": {
  "kernelspec": {
   "display_name": "Julia 0.4.1",
   "language": "julia",
   "name": "julia-0.4"
  },
  "language_info": {
   "file_extension": ".jl",
   "mimetype": "application/julia",
   "name": "julia",
   "version": "0.4.1"
  }
 },
 "nbformat": 4,
 "nbformat_minor": 0
}
