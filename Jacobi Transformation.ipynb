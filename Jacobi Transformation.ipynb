{
 "cells": [
  {
   "cell_type": "markdown",
   "metadata": {},
   "source": [
    "# Jacobi Transformation of a Symmetric Matrix\n",
    "### Christina Lee\n",
    "### Category: Numerics\n",
    "#### based on Numerical Recipes in C++, Sec 11.1\n",
    "\n",
    "So you want to diagonalize a matrix, do you?\n",
    "Well, if you have a tiny symmetric matrix, you REALLY want to write up the algorithm by hand, and don't want to spend much time trying to understand the algorithm, then you have come to the right place. \n",
    "\n",
    "Otherwise, use LAPACK/BLAS to call a highly optimized routine that can work extremely quickly on large matrices.  Julia has those libraries built in already.  Even if you do call those matrices, you can make them work better by understanding what's going on underneath the hood, which is why we are going through this now."
   ]
  },
  {
   "cell_type": "markdown",
   "metadata": {},
   "source": [
    "Start with a base Rotation Matrix of the Form\n",
    "\\begin{equation}\n",
    "    P_{pq} =\n",
    "    \\begin{pmatrix}\n",
    "           1& &  &  && && 0\\\\\n",
    "           & \\ddots &&&&  & \\\\\n",
    "            && c & \\cdots & s && \\\\\n",
    "                &&\\vdots& 1 & \\vdots &&\\\\\n",
    "               && -s & \\cdots & c && \\\\\n",
    "               &&&&& \\ddots & \\\\\n",
    "               0&&& &  && 1 \n",
    "    \\end{pmatrix}\n",
    "\\end{equation}\n",
    "\n",
    "From our starting arbitrary symmetric A,\n",
    "\\begin{equation}\n",
    "A^{T} = A\n",
    "\\end{equation}\n",
    "we will run a series of transformations,\n",
    "\\begin{equation}\n",
    "A^{\\prime}= P^{T}_{pq} \\cdot A \\cdot P_{pq}\n",
    "\\end{equation}\n",
    "where each iteration brings A closer to diagonal form.  Thus in our implementing our algorithm, we need to determine two things\n",
    "<ul>\n",
    "<li> The values of c and s\n",
    "<li> The pattern of sweeping p and q\n",
    "</ul>\n",
    "And in the end we will need to finally determine if this actually converges, and if has any sort of efficiency."
   ]
  },
  {
   "cell_type": "markdown",
   "metadata": {},
   "source": [
    "So lets expand one transformation, and we if we can solve for $c$ and $s$.\n",
    "\n",
    "\\begin{align}\n",
    "a^{\\prime}_{rp} & = c a_{rp} - s a_{rq} \\\\\n",
    "a^{\\prime}_{rq} & = c a_{rq} + s a_{rp} \\\\ \n",
    "a^{\\prime}_{pp} & = c^2 a_{pp} + s^2 a_{qq} -2 sc a_{pq} \\\\\n",
    "a^{\\prime}_{qq} & = s^2 a_{qq} + c^2 a_{qq} + 2sc a_{pq} \\\\\n",
    "a^{\\prime}_{pq} & = \\left( c^2-s^2 \\right) a_{pq} + sc \\left(a_{pq} - a_{qq} \\right)\n",
    "\\end{align}"
   ]
  },
  {
   "cell_type": "markdown",
   "metadata": {},
   "source": [
    "## Determining $s$ and $c$\n",
    "Given we specifically want $a^{\\prime}_{pq}$ to be zero, we re-arrange the last equation,\n",
    "\\begin{equation}\n",
    "        \\frac{c^2-s^2}{2 sc} = \\frac{a_{pq}-a_{qq}}{2 a_{pq}} =\\theta\n",
    "\\end{equation}\n",
    "At first glance, this equation might not look easier to solve for $s$ or $c$.  Second either. We define a new parameter $t = s/c$, which now makes the equation,\n",
    "\\begin{equation}\n",
    "\\frac{1-t^2}{2 t} = \\theta \\;\\;\\;\\; \\implies \\;\\;\\; t^2 -2 \\theta t -1=0,\n",
    "\\end{equation}\n",
    "now quite easily solvable by our friendly quadratic formula.  Though the book does recommend using form that pulls out smaller root through\n",
    "\\begin{equation}\n",
    "t=\\frac{\\text{sgn}(\\theta)}{|\\theta| + \\sqrt{\\theta^2 + 1} }.\n",
    "\\end{equation}\n",
    "Then reverse solve back to\n",
    "\\begin{align}\n",
    "c&=\\frac{1}{\\sqrt{t^2+1}}\\\\\n",
    "s&=tc\n",
    "\\end{align}\n",
    "\n",
    "Though we could use the expressions above, if we simplify them with our new expressions for $c$ and $s$ analytically, we reduce computational load and round off error. These new expressions are\n",
    "\\begin{align}\n",
    "a^{\\prime}_{pq} & = 0\\\\\n",
    "a^{\\prime}_{qq} & = a_{qq} + t a_{qp} \\\\\n",
    "a^{\\prime}_{pp} &= a_{pp} - t a_{pq} \\\\\n",
    "a^{\\prime}_{rp} &= a_{rp} - s \\left( a_{rq} +\\tau a_{rp} \\right) \\\\\n",
    "a^{\\prime}_{rq} &= a_{rq} + s \\left( a_{rp} -\\tau a_{rq} \\right)\n",
    "\\end{align}\n",
    "with the new variable\n",
    "\\begin{equation}\n",
    "\\tau = \\frac{s}{1+c}\n",
    "\\end{equation}\n",
    "\n",
    "## Convergence\n",
    "\n",
    "The sum of the squares of the off diagonal elements (choosen in either upper or lower triagnles arbitrarily)\n",
    "\\begin{equation}\n",
    "S=\\sum\\limits_{r < s} |a_{rs}|^2\n",
    "\\end{equation}\n",
    "\n",
    "## Eigenvectors\n",
    "\n",
    "By forming a product of every rotation matrix, we also come to approximate the matrix $V$ where \n",
    "\\begin{equation}\n",
    "D = V^{T} \\cdot A \\cdot V\n",
    "\\end{equation}\n",
    "and $D$ is the diagonal form of $A$.  $V$ is computed through itereative computation\n",
    "\\begin{align}\n",
    "V^{\\prime} & = V \\cdot P_i \\\\\n",
    "v^{\\prime}_{rs} &= v_{rs} \\\\\n",
    "v^{\\prime}_{rp} &= c v_{rp} - s v_{rq} \\\\\n",
    "v^{\\prime}_{rq} &= s v_{rp} + c v_{rq} \n",
    "\\end{align}\n",
    "\n",
    "### Enough with the talking! LETS COMPUTE STUFF"
   ]
  },
  {
   "cell_type": "code",
   "execution_count": 3,
   "metadata": {
    "collapsed": false
   },
   "outputs": [
    {
     "data": {
      "text/plain": [
       "convergence (generic function with 1 method)"
      ]
     },
     "execution_count": 3,
     "metadata": {},
     "output_type": "execute_result"
    }
   ],
   "source": [
    "# First, Lets make our nice, helpful functions\n",
    "\n",
    "## A function to look at the convergence\n",
    "function convergence(A::Array)\n",
    "    num=0.0\n",
    "    l=size(A)[1]\n",
    "    for ii in 1:(l-1)\n",
    "        for jj in (ii+1):l ## just looking at the lower triangle\n",
    "            num+=A[ii,jj]^2\n",
    "            #println(ii,' ',jj,' ',num,' ',A[ii,jj])\n",
    "        end\n",
    "    end\n",
    "    return num\n",
    "end"
   ]
  },
  {
   "cell_type": "code",
   "execution_count": 4,
   "metadata": {
    "collapsed": false
   },
   "outputs": [
    {
     "data": {
      "text/plain": [
       "roundmatrix (generic function with 1 method)"
      ]
     },
     "execution_count": 4,
     "metadata": {},
     "output_type": "execute_result"
    }
   ],
   "source": [
    "# This makes a matrix easier to look at when its filled \n",
    "# with 1.043848974e-12 everywhere\n",
    "function roundmatrix(A::Array,rtol::Real)\n",
    "    Ap=copy(A)\n",
    "    for ii in 1:length(A)\n",
    "        if abs(Ap[ii])<rtol \n",
    "            Ap[ii]=0\n",
    "        end\n",
    "    end\n",
    "    return Ap;\n",
    "end"
   ]
  },
  {
   "cell_type": "code",
   "execution_count": 5,
   "metadata": {
    "collapsed": false
   },
   "outputs": [
    {
     "data": {
      "text/plain": [
       "makeA (generic function with 1 method)"
      ]
     },
     "execution_count": 5,
     "metadata": {},
     "output_type": "execute_result"
    }
   ],
   "source": [
    "## Here we create a random symmetric matrix\n",
    "function makeA(n::Int)\n",
    "    A=randn(n,n);\n",
    "    for ii in 1:n\n",
    "        A[ii,1:ii]=transpose(A[1:ii,ii]) \n",
    "    end\n",
    "    V=eye(n) #initializing the orthogonal transformation\n",
    "    return A,copy(A),V\n",
    "end\n",
    "## One A returned will be stored to compare initial and final"
   ]
  },
  {
   "cell_type": "code",
   "execution_count": 6,
   "metadata": {
    "collapsed": false
   },
   "outputs": [
    {
     "data": {
      "text/plain": [
       "Rotate (generic function with 1 method)"
      ]
     },
     "execution_count": 6,
     "metadata": {},
     "output_type": "execute_result"
    }
   ],
   "source": [
    "#Now on to the Rotations!\n",
    "\n",
    "# We don't always want to compute the eigenvectors, so those are in the \n",
    "# optional entries slot. \n",
    "# Both tell the function to compute the vectors with computeV=true\n",
    "# and input the V=V after the semicolon.\n",
    "\n",
    "function Rotate(A::Array,p::Int,q::Int; computeV=false, V::Array=eye(1))\n",
    "    θ=(A[q,q]-A[p,p])/(2*A[p,q]);\n",
    "    t=sign(θ)/(abs(θ)+sqrt(θ^2+1));\n",
    "    \n",
    "    c=1/sqrt(t^2+1)\n",
    "    s=t*c\n",
    "    τ=s/(1+c)\n",
    "    \n",
    "    l=size(A)[1]\n",
    "    Ap=copy(A[:,p])\n",
    "    Aq=copy(A[:,q])\n",
    "    for r in 1:l\n",
    "        A[r,p]=Ap[r]-s*(Aq[r]+τ*Ap[r]) \n",
    "        A[r,q]=Aq[r]+s*(Ap[r]-τ*Aq[r])\n",
    "        \n",
    "        A[p,r]=A[r,p]\n",
    "        A[q,r]=A[r,q]\n",
    "    end\n",
    "    A[p,q]=0\n",
    "    A[q,p]=0\n",
    "    A[p,p]=Ap[p]-t*Aq[p]\n",
    "    A[q,q]=Aq[q]+t*Aq[p]\n",
    "    \n",
    "    if computeV==true\n",
    "        Vp=copy(V[:,p])\n",
    "        Vq=copy(V[:,q])    \n",
    "        for r in 1:l   \n",
    "            V[r,p]=c*Vp[r]-s*Vq[r]\n",
    "            V[r,q]=s*Vp[r]+c*Vq[r]\n",
    "        end\n",
    "        return A,V\n",
    "    else\n",
    "        return A;\n",
    "    end\n",
    "end"
   ]
  },
  {
   "cell_type": "code",
   "execution_count": 7,
   "metadata": {
    "collapsed": false
   },
   "outputs": [
    {
     "data": {
      "text/plain": [
       "Sweep (generic function with 1 method)"
      ]
     },
     "execution_count": 7,
     "metadata": {},
     "output_type": "execute_result"
    }
   ],
   "source": [
    "# This function performs one sweep\n",
    "function Sweep(A;compV=false,V=eye(1))\n",
    "    n=size(A)[1]\n",
    "    for ii in 2:n\n",
    "        for jj in 1:(ii-1) ## Just over one triangle\n",
    "            if compV==false\n",
    "                A=Rotate(A,ii,jj)\n",
    "            else\n",
    "                A,V=Rotate(A,ii,jj;computeV=true,V=V);\n",
    "            end\n",
    "        end\n",
    "    end\n",
    "    \n",
    "    if compV==false\n",
    "        return A\n",
    "    else\n",
    "        return A,V\n",
    "    end \n",
    "end"
   ]
  },
  {
   "cell_type": "code",
   "execution_count": 8,
   "metadata": {
    "collapsed": false
   },
   "outputs": [],
   "source": [
    "A,A0,V=makeA(5);"
   ]
  },
  {
   "cell_type": "code",
   "execution_count": 9,
   "metadata": {
    "collapsed": false
   },
   "outputs": [
    {
     "data": {
      "text/plain": [
       "(\n",
       "5x5 Array{Float64,2}:\n",
       "  1.4948     0.116921    1.02763    -0.434912   -0.188183 \n",
       "  0.116921  -2.84648     0.0963164   0.282086    0.292827 \n",
       "  1.02763    0.0963164   0.0260007  -0.0918717  -0.0863438\n",
       " -0.434912   0.282086   -0.0918717  -2.50395     0.0      \n",
       " -0.188183   0.292827   -0.0863438   0.0        -1.29901  ,\n",
       "\n",
       "5x5 Array{Float64,2}:\n",
       "  1.4948     0.116921    1.02763    -0.434912   -0.188183 \n",
       "  0.116921  -2.84648     0.0963164   0.282086    0.292827 \n",
       "  1.02763    0.0963164   0.0260007  -0.0918717  -0.0863438\n",
       " -0.434912   0.282086   -0.0918717  -2.50395     0.0      \n",
       " -0.188183   0.292827   -0.0863438   0.0        -1.29901  ,\n",
       "\n",
       "5x5 Array{Float64,2}:\n",
       "  0.437993    0.0130328    0.325224    0.115869   0.829937 \n",
       "  0.0146638   0.849826    -0.0800861   0.517046  -0.0618865\n",
       " -0.383632   -0.00380988   0.897765    0.136057  -0.16828  \n",
       " -0.437074   -0.430791    -0.251751    0.709822   0.236981 \n",
       " -0.685376    0.303365    -0.135846   -0.443711   0.472119 ,\n",
       "\n",
       "1.4847562147413709)"
      ]
     },
     "execution_count": 9,
     "metadata": {},
     "output_type": "execute_result"
    }
   ],
   "source": [
    "## keep evaluating for a couple iterations\n",
    "## watch how it changes\n",
    "A,V=Sweep(A;compV=true,V=V);\n",
    "roundmatrix(A,1e-10),A,V,convergence(A)"
   ]
  },
  {
   "cell_type": "code",
   "execution_count": 10,
   "metadata": {
    "collapsed": false
   },
   "outputs": [
    {
     "data": {
      "text/plain": [
       "([-3.0692662458854665,-2.3884515551279404,-1.2546686989796698,-0.49477842953790496,2.0785140022018687],\n",
       "5x5 Array{Float64,2}:\n",
       " -0.207535   -0.0391866  -0.846272  -0.115829    -0.475185 \n",
       "  0.488515   -0.863584   -0.111218   0.0283255    0.0490272\n",
       " -0.0373319  -0.0801275   0.181727  -0.977372    -0.0624916\n",
       " -0.713881   -0.352832   -0.138244  -0.00715952   0.588829 \n",
       "  0.455261    0.348963   -0.468314  -0.174568     0.648976 )"
      ]
     },
     "execution_count": 10,
     "metadata": {},
     "output_type": "execute_result"
    }
   ],
   "source": [
    "## Compare the Optimized LAPLACK routine to your results\n",
    "eig(A0)"
   ]
  },
  {
   "cell_type": "code",
   "execution_count": 12,
   "metadata": {
    "collapsed": false
   },
   "outputs": [
    {
     "data": {
      "text/plain": [
       "5x5 Array{Float64,2}:\n",
       " 0.0  0.0  0.0  0.0  0.0\n",
       " 0.0  0.0  0.0  0.0  0.0\n",
       " 0.0  0.0  0.0  0.0  0.0\n",
       " 0.0  0.0  0.0  0.0  0.0\n",
       " 0.0  0.0  0.0  0.0  0.0"
      ]
     },
     "execution_count": 12,
     "metadata": {},
     "output_type": "execute_result"
    }
   ],
   "source": [
    "## A good check to make sure V is an orthonomal transformation\n",
    "roundmatrix(V*A*transpose(V)-A0,1e-12)"
   ]
  },
  {
   "cell_type": "code",
   "execution_count": 13,
   "metadata": {
    "collapsed": false
   },
   "outputs": [
    {
     "name": "stdout",
     "output_type": "stream",
     "text": [
      "  0.001878 seconds (1.08 k allocations: 75.580 KB)\n",
      "  0.000196 seconds (1.33 k allocations: 187.266 KB)\n",
      "  0.012980 seconds (34.66 k allocations: 17.448 MB, 22.64% gc time)\n"
     ]
    }
   ],
   "source": [
    "# How long does it take to make a Sweep?\n",
    "# How much memory will the computation take?\n",
    "# This is dependent on how large the matrix is\n",
    "A,A0,V=makeA(10);\n",
    "@time Sweep(A);\n",
    "A,A0,V=makeA(20);\n",
    "@time Sweep(A);\n",
    "A,A0,V=makeA(100);\n",
    "@time Sweep(A);"
   ]
  },
  {
   "cell_type": "markdown",
   "metadata": {},
   "source": [
    "In addition to time per sweep, we need to know how many sweeps we need to run. So again we run it on a 10x10, 20x20, and 100x100. The efficiency of the algorithm would get a lot worse if we have to sweep the 100x100 a bunch of times."
   ]
  },
  {
   "cell_type": "code",
   "execution_count": 20,
   "metadata": {
    "collapsed": false
   },
   "outputs": [
    {
     "data": {
      "text/plain": [
       "7x6 Array{Float64,2}:\n",
       " 1.0  0.132261     0.0918583    0.142374        0.69452        1.07646   \n",
       " 2.0  0.024914     0.0126652    0.0293247       0.508356       1.17704   \n",
       " 3.0  0.00106589   0.000835482  0.00477146      0.783833       4.47649   \n",
       " 4.0  9.02829e-8   2.61435e-6   0.000480568    28.9573      5322.91      \n",
       " 5.0  5.49671e-15  3.15077e-11  1.0185e-5    5732.11           1.85293e9 \n",
       " 6.0  5.92701e-38  1.49483e-24  1.44118e-8      2.52206e13     2.43155e29\n",
       " 7.0  7.91672e-88  7.87516e-55  2.16057e-14     9.94751e32     2.72913e73"
      ]
     },
     "execution_count": 20,
     "metadata": {},
     "output_type": "execute_result"
    }
   ],
   "source": [
    "A10,Ap10,V=makeA(10);\n",
    "A20,Ap20,V=makeA(20);\n",
    "A100,Ap100,V=makeA(100);\n",
    "nsweep=collect(1:7);\n",
    "conv10=zeros(7)\n",
    "conv20=zeros(7)\n",
    "conv100=zeros(7)\n",
    "for i in nsweep\n",
    "    A10=Sweep(A10)\n",
    "    A20=Sweep(A20)\n",
    "    A100=Sweep(A100)\n",
    "    conv10[i]=convergence(A10)\n",
    "    conv20[i]=convergence(A20)\n",
    "    conv100[i]=convergence(A100)\n",
    "end\n",
    "\n",
    "[nsweep conv10/100 conv20/400 conv100/10000 conv20./(4*conv10) conv100./(100*conv10)]"
   ]
  },
  {
   "cell_type": "markdown",
   "metadata": {
    "collapsed": true
   },
   "source": [
    "Well, so we've seen how to do one form of exact diagonalization that works, but doesn't scale very well up to 100x100 matrices.  So stay tuned for the Householder method, hopefully coming up soon.\n",
    "\n",
    "Until then, happy computing :)"
   ]
  },
  {
   "cell_type": "code",
   "execution_count": null,
   "metadata": {
    "collapsed": true
   },
   "outputs": [],
   "source": []
  }
 ],
 "metadata": {
  "kernelspec": {
   "display_name": "Julia 0.4.1",
   "language": "julia",
   "name": "julia-0.4"
  },
  "language_info": {
   "file_extension": ".jl",
   "mimetype": "application/julia",
   "name": "julia",
   "version": "0.4.1"
  }
 },
 "nbformat": 4,
 "nbformat_minor": 0
}
