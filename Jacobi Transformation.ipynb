{
 "cells": [
  {
   "cell_type": "markdown",
   "metadata": {},
   "source": [
    "# Jacobi Transformation of a Symmetric Matrix\n",
    "### Christina Lee\n",
    "#### based on Numerical Recipes in C++, Sec 11.1\n",
    "\n",
    "Start with a base Rotation Matrix of the Form\n",
    "\\begin{equation}\n",
    "    P_{pq} =\n",
    "    \\begin{pmatrix}\n",
    "           1& &  &  && && 0\\\\\n",
    "           & \\ddots &&&&  & \\\\\n",
    "            && c & \\cdots & s && \\\\\n",
    "                &&\\vdots& 1 & \\vdots &&\\\\\n",
    "               && -s & \\cdots & c && \\\\\n",
    "               &&&&& \\ddots & \\\\\n",
    "               0&&& &  && 1 \n",
    "    \\end{pmatrix}\n",
    "\\end{equation}\n",
    "\n",
    "From our starting arbitrary symmetric A,\n",
    "\\begin{equation}\n",
    "A^{T} = A\n",
    "\\end{equation}\n",
    "we will run a series of transformations,\n",
    "\\begin{equation}\n",
    "A^{\\prime}= P^{T}_{pq} \\cdot A \\cdot P_{pq}\n",
    "\\end{equation}\n",
    "where each iteration brings A closer to diagonal form.  Thus in our implementing our algorithm, we need to determine two things\n",
    "<ul>\n",
    "<li> The values of c and s\n",
    "<li> The pattern of sweeping p and q\n",
    "</ul>\n",
    "And in the end we will need to finally determine if this actually converges, and if has any sort of efficiency."
   ]
  },
  {
   "cell_type": "markdown",
   "metadata": {},
   "source": [
    "So lets expand one transformation, and we if we can solve for $c$ and $s$.\n",
    "\n",
    "\\begin{align}\n",
    "a^{\\prime}_{rp} & = c a_{rp} - s a_{rq} \\\\\n",
    "a^{\\prime}_{rq} & = c a_{rq} + s a_{rp} \\\\ \n",
    "a^{\\prime}_{pp} & = c^2 a_{pp} + s^2 a_{qq} -2 sc a_{pq} \\\\\n",
    "a^{\\prime}_{qq} & = s^2 a_{qq} + c^2 a_{qq} + 2sc a_{pq} \\\\\n",
    "a^{\\prime}_{pq} & = \\left( c^2-s^2 \\right) a_{pq} + sc \\left(a_{pq} - a_{qq} \\right)\n",
    "\\end{align}"
   ]
  },
  {
   "cell_type": "markdown",
   "metadata": {},
   "source": [
    "## Determining $s$ and $c$\n",
    "Given we specifically want $a^{\\prime}_{pq}$ to be zero, we re-arrange the last equation,\n",
    "\\begin{equation}\n",
    "        \\frac{c^2-s^2}{2 sc} = \\frac{a_{pq}-a_{qq}}{2 a_{pq}} =\\theta\n",
    "\\end{equation}\n",
    "At first glance, this equation might not look easier to solve for $s$ or $c$.  Second either. We define a new parameter $t = s/c$, which now makes the equation,\n",
    "\\begin{equation}\n",
    "\\frac{1-t^2}{2 t} = \\theta \\;\\;\\;\\; \\implies \\;\\;\\; t^2 -2 \\theta t -1=0,\n",
    "\\end{equation}\n",
    "now quite easily solvable by our friendly quadratic formula.  Though the book does recommend using form that pulls out smaller root through\n",
    "\\begin{equation}\n",
    "t=\\frac{\\text{sgn}(\\theta)}{|\\theta| + \\sqrt{\\theta^2 + 1} }.\n",
    "\\end{equation}\n",
    "Then reverse solve back to\n",
    "\\begin{align}\n",
    "c&=\\frac{1}{\\sqrt{t^2+1}}\\\\\n",
    "s&=tc\n",
    "\\end{align}\n",
    "\n",
    "Though we could use the expressions above, if we simplify them with our new expressions for $c$ and $s$ analytically, we reduce computational load and round off error. These new expressions are\n",
    "\\begin{align}\n",
    "a^{\\prime}_{pq} & = 0\\\\\n",
    "a^{\\prime}_{qq} & = a_{qq} + t a_{qp} \\\\\n",
    "a^{\\prime}_{pp} &= a_{pp} - t a_{pq} \\\\\n",
    "a^{\\prime}_{rp} &= a_{rp} - s \\left( a_{rq} +\\tau a_{rp} \\right) \\\\\n",
    "a^{\\prime}_{rq} &= a_{rq} + s \\left( a_{rp} -\\tau a_{rq} \\right)\n",
    "\\end{align}\n",
    "with the new variable\n",
    "\\begin{equation}\n",
    "\\tau = \\frac{s}{1+c}\n",
    "\\end{equation}\n",
    "\n",
    "## Convergence\n",
    "\n",
    "The sum of the squares of the off diagonal elements (choosen in either upper or lower triagnles arbitrarily)\n",
    "\\begin{equation}\n",
    "S=\\sum\\limits_{r < s} |a_{rs}|^2\n",
    "\\end{equation}\n",
    "\n",
    "## Eigenvectors\n",
    "\n",
    "By forming a product of every rotation matrix, we also come to approximate the matrix $V$ where \n",
    "\\begin{equation}\n",
    "D = V^{T} \\cdot A \\cdot V\n",
    "\\end{equation}\n",
    "and $D$ is the diagonal form of $A$.  $V$ is computed through itereative computation\n",
    "\\begin{align}\n",
    "V^{\\prime} & = V \\cdot P_i \\\\\n",
    "v^{\\prime}_{rs} &= v_{rs} \\\\\n",
    "v^{\\prime}_{rp} &= c v_{rp} - s v_{rq} \\\\\n",
    "v^{\\prime}_{rq} &= s v_{rp} + c v_{rq} \n",
    "\\end{align}\n",
    "\n",
    "### Enough with the talking! LETS COMPUTE STUFF"
   ]
  },
  {
   "cell_type": "code",
   "execution_count": 21,
   "metadata": {
    "collapsed": false
   },
   "outputs": [
    {
     "data": {
      "text/plain": [
       "convergence (generic function with 1 method)"
      ]
     },
     "execution_count": 21,
     "metadata": {},
     "output_type": "execute_result"
    }
   ],
   "source": [
    "# First, Lets make our nice, helpful functions\n",
    "\n",
    "## A function to look at the convergence\n",
    "function convergence(A::Array)\n",
    "    num=0.0\n",
    "    l=size(A)[1]\n",
    "    for ii in 1:(l-1)\n",
    "        for jj in (ii+1):l ## just looking at the lower triangle\n",
    "            num+=A[ii,jj]^2\n",
    "            #println(ii,' ',jj,' ',num,' ',A[ii,jj])\n",
    "        end\n",
    "    end\n",
    "    return num\n",
    "end"
   ]
  },
  {
   "cell_type": "code",
   "execution_count": 97,
   "metadata": {
    "collapsed": false
   },
   "outputs": [
    {
     "data": {
      "text/plain": [
       "roundmatrix (generic function with 1 method)"
      ]
     },
     "execution_count": 97,
     "metadata": {},
     "output_type": "execute_result"
    }
   ],
   "source": [
    "function roundmatrix(A::Array,rtol::Real)\n",
    "    Ap=copy(A)\n",
    "    for ii in 1:length(A)\n",
    "        if abs(Ap[ii])<rtol \n",
    "            Ap[ii]=0\n",
    "        end\n",
    "    end\n",
    "    return Ap;\n",
    "end"
   ]
  },
  {
   "cell_type": "code",
   "execution_count": 30,
   "metadata": {
    "collapsed": false
   },
   "outputs": [
    {
     "data": {
      "text/plain": [
       "Rotate (generic function with 1 method)"
      ]
     },
     "execution_count": 30,
     "metadata": {},
     "output_type": "execute_result"
    }
   ],
   "source": [
    "#Now on to the Rotations!\n",
    "\n",
    "# We don't always want to compute the eigenvectors, so those are in the \n",
    "# optional entries slot. \n",
    "# Both tell the function to compute the vectors with computeV=true\n",
    "# and input the V=V after the semicolon.\n",
    "\n",
    "function Rotate(A::Array,p::Int,q::Int; computeV=false, V::Array=eye(1))\n",
    "    θ=(A[q,q]-A[p,p])/(2*A[p,q]);\n",
    "    t=sign(θ)/(abs(θ)+sqrt(θ^2+1));\n",
    "    \n",
    "    c=1/sqrt(t^2+1)\n",
    "    s=t*c\n",
    "    τ=s/(1+c)\n",
    "    \n",
    "    l=size(A)[1]\n",
    "    Ap=copy(A[:,p])\n",
    "    Aq=copy(A[:,q])\n",
    "    for r in 1:l\n",
    "        A[r,p]=Ap[r]-s*(Aq[r]+τ*Ap[r]) \n",
    "        A[r,q]=Aq[r]+s*(Ap[r]-τ*Aq[r])\n",
    "        \n",
    "        A[p,r]=A[r,p]\n",
    "        A[q,r]=A[r,q]\n",
    "    end\n",
    "    A[p,q]=0\n",
    "    A[q,p]=0\n",
    "    A[p,p]=Ap[p]-t*Aq[p]\n",
    "    A[q,q]=Aq[q]+t*Aq[p]\n",
    "    \n",
    "    if computeV==true\n",
    "        Vp=copy(V[:,p])\n",
    "        Vq=copy(V[:,q])    \n",
    "        for r in 1:l   \n",
    "            V[r,p]=c*Vp[r]-s*Vq[r]\n",
    "            V[r,q]=s*Vp[r]+c*Vq[r]\n",
    "        end\n",
    "        return A,V\n",
    "    else\n",
    "        return A;\n",
    "    end\n",
    "end"
   ]
  },
  {
   "cell_type": "code",
   "execution_count": 98,
   "metadata": {
    "collapsed": false
   },
   "outputs": [
    {
     "data": {
      "text/plain": [
       "6x6 Array{Float64,2}:\n",
       " 0.793162  0.704718  0.57717    0.593039   0.267469  0.75788 \n",
       " 0.704718  0.853092  0.266642   0.510272   0.36707   0.937841\n",
       " 0.57717   0.266642  0.578512   0.0683895  0.930363  0.219291\n",
       " 0.593039  0.510272  0.0683895  0.727548   0.801134  0.670543\n",
       " 0.267469  0.36707   0.930363   0.801134   0.712329  0.140053\n",
       " 0.75788   0.937841  0.219291   0.670543   0.140053  0.541262"
      ]
     },
     "execution_count": 98,
     "metadata": {},
     "output_type": "execute_result"
    }
   ],
   "source": [
    "n=6;\n",
    "A=rand(n,n);\n",
    "for ii in 1:n\n",
    "    A[ii,1:ii]=transpose(A[1:ii,ii]) \n",
    "end\n",
    "V=eye(n)\n",
    "A0=copy(A)\n",
    "A"
   ]
  },
  {
   "cell_type": "code",
   "execution_count": 113,
   "metadata": {
    "collapsed": false
   },
   "outputs": [
    {
     "data": {
      "text/plain": [
       "(\n",
       "6x6 Array{Float64,2}:\n",
       " -0.687616     0.000333233   0.0          …  -0.000175403   0.0        \n",
       "  0.000333233  3.34904       0.0              0.0           0.000148592\n",
       "  0.0          0.0           1.15674          0.0           0.0        \n",
       "  0.0          0.0          -0.000364856      0.0           0.000349946\n",
       " -0.000175403  0.0           0.0              0.534951      0.0        \n",
       "  0.0          0.000148592   0.0          …   0.0          -0.299853   ,\n",
       "\n",
       "6x6 Array{Float64,2}:\n",
       " -0.687616      0.000333233   5.12382e-7   …  -0.000175403   3.58693e-5 \n",
       "  0.000333233   3.34904      -7.19832e-5      -2.576e-7      0.000148592\n",
       "  5.12382e-7   -7.19832e-5    1.15674         -8.65767e-6    5.66138e-8 \n",
       "  0.0           2.85225e-5   -0.000364856      4.53029e-7    0.000349946\n",
       " -0.000175403  -2.576e-7     -8.65767e-6       0.534951      0.0        \n",
       "  3.58693e-5    0.000148592   5.66138e-8   …   0.0          -0.299853   ,\n",
       "\n",
       "6x6 Array{Float64,2}:\n",
       "  0.227326  0.455959  -0.165182     0.656925   -0.378279  -0.372148 \n",
       " -0.159167  0.458968  -0.350848    -0.666457   -0.129128  -0.42436  \n",
       " -0.525765  0.306373   0.542257    -0.0282896  -0.507005   0.278943 \n",
       " -0.474019  0.420195   0.00604047   0.275585    0.722574  -0.0254156\n",
       "  0.592379  0.368125   0.632524    -0.21092     0.246498  -0.0907488\n",
       "  0.266372  0.418933  -0.394277    -0.0552264  -0.017392   0.77119  ,\n",
       "\n",
       "4.2682909308098515e-7)"
      ]
     },
     "execution_count": 113,
     "metadata": {},
     "output_type": "execute_result"
    }
   ],
   "source": [
    "## keep evaluating for a couple iterations\n",
    "for ii in 2:n\n",
    "    for jj in 1:(ii-1)\n",
    "        if abs(A[ii,jj])>.001\n",
    "            A,V=Rotate(A,ii,jj;computeV=true,V=V);\n",
    "        end    \n",
    "    end\n",
    "end\n",
    "roundmatrix(A,1e-4),A,V,convergence(A)"
   ]
  },
  {
   "cell_type": "code",
   "execution_count": 114,
   "metadata": {
    "collapsed": false
   },
   "outputs": [
    {
     "data": {
      "text/plain": [
       "6x6 Array{Float64,2}:\n",
       " 0.0  0.0  0.0  0.0  0.0  0.0\n",
       " 0.0  0.0  0.0  0.0  0.0  0.0\n",
       " 0.0  0.0  0.0  0.0  0.0  0.0\n",
       " 0.0  0.0  0.0  0.0  0.0  0.0\n",
       " 0.0  0.0  0.0  0.0  0.0  0.0\n",
       " 0.0  0.0  0.0  0.0  0.0  0.0"
      ]
     },
     "execution_count": 114,
     "metadata": {},
     "output_type": "execute_result"
    }
   ],
   "source": [
    "roundmatrix(V*A*transpose(V)-A0,1e-6)"
   ]
  },
  {
   "cell_type": "code",
   "execution_count": null,
   "metadata": {
    "collapsed": false
   },
   "outputs": [],
   "source": []
  },
  {
   "cell_type": "code",
   "execution_count": null,
   "metadata": {
    "collapsed": false
   },
   "outputs": [],
   "source": []
  },
  {
   "cell_type": "code",
   "execution_count": null,
   "metadata": {
    "collapsed": false
   },
   "outputs": [],
   "source": []
  },
  {
   "cell_type": "code",
   "execution_count": null,
   "metadata": {
    "collapsed": true
   },
   "outputs": [],
   "source": []
  }
 ],
 "metadata": {
  "kernelspec": {
   "display_name": "Julia 0.4.1",
   "language": "julia",
   "name": "julia-0.4"
  },
  "language_info": {
   "file_extension": ".jl",
   "mimetype": "application/julia",
   "name": "julia",
   "version": "0.4.1"
  }
 },
 "nbformat": 4,
 "nbformat_minor": 0
}
